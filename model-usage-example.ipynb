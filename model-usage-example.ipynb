{
 "cells": [
  {
   "cell_type": "markdown",
   "metadata": {},
   "source": [
    "## Set up the environment"
   ]
  },
  {
   "cell_type": "code",
   "execution_count": 14,
   "metadata": {},
   "outputs": [
    {
     "name": "stdout",
     "output_type": "stream",
     "text": [
      "arn:aws:sagemaker:us-east-2:390946248509:model-package/point-of-compromise-fraud-detection\n"
     ]
    }
   ],
   "source": [
    "import sagemaker as sage\n",
    "from sagemaker import get_execution_role\n",
    "\n",
    "MODEL_NAME = \"[Specify a name for your model e.g. last segment of Model Arn]\"\n",
    "\n",
    "# S3 paths for input and output data \n",
    "# Ensure the buckets are in the same region as subscribed model\n",
    "S3_INPUT_PATH = \"s3://[INPUT_BUCKET_NAME]/[INPUT_FILE]\"\n",
    "S3_OUTPUT_PATH = \"s3://[OUTPUT_BUCKET_NAME]/output\"\n",
    "S3_OUTPUT_FILE = S3_OUTPUT_PATH + \"/[INPUT_FILE].out\"\n",
    "\n",
    "# Specify one of the supported real time instances for the subscribed model\n",
    "INFERENCE_INSTANCE = \"ml.p2.xlarge\"\n",
    "\n",
    "# Specify one of the supported batch transform instances for the subscribed model\n",
    "BATCH_INSTANCE = \"ml.m5.large\"\n",
    "\n",
    "# ROLE = get_execution_role()\n",
    "# or specify role arn\n",
    "# ensure the role has access to S3 buckets specified above\n",
    "ROLE = \"arn:aws:iam::[your aws account]:role/[your sagemaker role name]\"\n",
    "\n",
    "MODEL_PACKAGE_ARN =\"arn:aws:sagemaker:[region]:[your aws account id]:model-package/[Model name]\"\n",
    "\n",
    "sagemaker_session = sage.Session()\n"
   ]
  },
  {
   "cell_type": "markdown",
   "metadata": {},
   "source": [
    "## Realtime Inference"
   ]
  },
  {
   "cell_type": "code",
   "execution_count": 13,
   "metadata": {},
   "outputs": [
    {
     "name": "stdout",
     "output_type": "stream",
     "text": [
      "<sagemaker.model.ModelPackage object at 0x123c2f3c8>\n"
     ]
    }
   ],
   "source": [
    "from sagemaker import ModelPackage\n",
    "model = ModelPackage(name=MODEL_NAME,\n",
    "                     role=ROLE,\n",
    "                     model_package_arn=MODEL_PACKAGE_ARN,\n",
    "                     sagemaker_session=sagemaker_session)"
   ]
  },
  {
   "cell_type": "code",
   "execution_count": 15,
   "metadata": {},
   "outputs": [],
   "source": [
    "endpoint_name=MODEL_NAME + \"-edp\""
   ]
  },
  {
   "cell_type": "code",
   "execution_count": 16,
   "metadata": {},
   "outputs": [
    {
     "name": "stdout",
     "output_type": "stream",
     "text": [
      "---------------!"
     ]
    }
   ],
   "source": [
    "predictor = model.deploy(1, INFERENCE_INSTANCE, endpoint_name=endpoint_name)"
   ]
  },
  {
   "cell_type": "code",
   "execution_count": null,
   "metadata": {},
   "outputs": [],
   "source": [
    "# connect to the endpoint\n",
    "predictor = sage.Predictor(\n",
    "    endpoint_name,\n",
    "    sagemaker_session=sagemaker_session\n",
    ")"
   ]
  },
  {
   "cell_type": "code",
   "execution_count": null,
   "metadata": {},
   "outputs": [],
   "source": [
    "import s3fs, json\n",
    "fs = s3fs.S3FileSystem()\n",
    "\n",
    "with fs.open(S3_INPUT_PATH) as f:    \n",
    "    docByteArr = f.read()\n",
    "    response = predictor.predict(docByteArr)\n",
    "    result=response.decode('utf-8')\n",
    "    print(json.loads(result))"
   ]
  },
  {
   "cell_type": "code",
   "execution_count": 19,
   "metadata": {},
   "outputs": [
    {
     "ename": "AttributeError",
     "evalue": "'NoneType' object has no attribute 'delete_endpoint'",
     "output_type": "error",
     "traceback": [
      "\u001b[0;31m---------------------------------------------------------------------------\u001b[0m",
      "\u001b[0;31mAttributeError\u001b[0m                            Traceback (most recent call last)",
      "\u001b[0;32m<ipython-input-19-5cc5a33163bf>\u001b[0m in \u001b[0;36m<module>\u001b[0;34m\u001b[0m\n\u001b[1;32m      1\u001b[0m \u001b[0;31m# Delete endpoint\u001b[0m\u001b[0;34m\u001b[0m\u001b[0;34m\u001b[0m\u001b[0;34m\u001b[0m\u001b[0m\n\u001b[0;32m----> 2\u001b[0;31m \u001b[0mpredictor\u001b[0m\u001b[0;34m.\u001b[0m\u001b[0mdelete_endpoint\u001b[0m\u001b[0;34m(\u001b[0m\u001b[0;34m)\u001b[0m\u001b[0;34m\u001b[0m\u001b[0;34m\u001b[0m\u001b[0m\n\u001b[0m",
      "\u001b[0;31mAttributeError\u001b[0m: 'NoneType' object has no attribute 'delete_endpoint'"
     ]
    }
   ],
   "source": [
    "# Delete endpoint\n",
    "predictor.delete_endpoint()"
   ]
  },
  {
   "cell_type": "markdown",
   "metadata": {},
   "source": [
    "## Batch Transform Job"
   ]
  },
  {
   "cell_type": "code",
   "execution_count": 17,
   "metadata": {},
   "outputs": [],
   "source": [
    "transformer = sage.transformer.Transformer(\n",
    "    base_transform_job_name='batch-transform',\n",
    "    model_name=MODEL_NAME,\n",
    "    instance_count=1,\n",
    "    instance_type=BATCH_INSTANCE,\n",
    "    output_path=S3_OUTPUT_PATH,\n",
    "    sagemaker_session=sagemaker_session\n",
    ")\n"
   ]
  },
  {
   "cell_type": "code",
   "execution_count": 18,
   "metadata": {},
   "outputs": [
    {
     "name": "stdout",
     "output_type": "stream",
     "text": [
      "........................\n",
      "\u001b[32m2020-10-16T19:13:12.081:[sagemaker logs]: MaxConcurrentTransforms=1, MaxPayloadInMB=6, BatchStrategy=MULTI_RECORD\u001b[0m\n",
      "\u001b[34m * Serving Flask app \"point-of-compromise-fraud-detection\" (lazy loading)\n",
      " * Environment: PRODUCTION\n",
      " * Debug mode: off\n",
      " * Running on http://0.0.0.0:8080/ (Press CTRL+C to quit)\u001b[0m\n",
      "\u001b[34m169.254.255.130 - - [16/Oct/2020 19:13:12] \"#033[37mGET /ping HTTP/1.1#033[0m\" 200 -\u001b[0m\n",
      "\u001b[34m169.254.255.130 - - [16/Oct/2020 19:13:12] \"#033[33mGET /execution-parameters HTTP/1.1#033[0m\" 404 -\u001b[0m\n",
      "\u001b[34m169.254.255.130 - - [16/Oct/2020 19:13:12] \"#033[37mPOST /invocations HTTP/1.1#033[0m\" 200 -\u001b[0m\n",
      "\u001b[35m * Serving Flask app \"point-of-compromise-fraud-detection\" (lazy loading)\n",
      " * Environment: PRODUCTION\n",
      " * Debug mode: off\n",
      " * Running on http://0.0.0.0:8080/ (Press CTRL+C to quit)\u001b[0m\n",
      "\u001b[35m169.254.255.130 - - [16/Oct/2020 19:13:12] \"#033[37mGET /ping HTTP/1.1#033[0m\" 200 -\u001b[0m\n",
      "\u001b[35m169.254.255.130 - - [16/Oct/2020 19:13:12] \"#033[33mGET /execution-parameters HTTP/1.1#033[0m\" 404 -\u001b[0m\n",
      "\u001b[35m169.254.255.130 - - [16/Oct/2020 19:13:12] \"#033[37mPOST /invocations HTTP/1.1#033[0m\" 200 -\u001b[0m\n",
      "\u001b[32m2020-10-16T19:13:12.081:[sagemaker logs]: MaxConcurrentTransforms=1, MaxPayloadInMB=6, BatchStrategy=MULTI_RECORD\u001b[0m\n",
      "\u001b[34m * Serving Flask app \"point-of-compromise-fraud-detection\" (lazy loading)\n",
      " * Environment: PRODUCTION\n",
      " * Debug mode: off\n",
      " * Running on http://0.0.0.0:8080/ (Press CTRL+C to quit)\u001b[0m\n",
      "\u001b[34m169.254.255.130 - - [16/Oct/2020 19:13:12] \"#033[37mGET /ping HTTP/1.1#033[0m\" 200 -\u001b[0m\n",
      "\u001b[34m169.254.255.130 - - [16/Oct/2020 19:13:12] \"#033[33mGET /execution-parameters HTTP/1.1#033[0m\" 404 -\u001b[0m\n",
      "\u001b[34m169.254.255.130 - - [16/Oct/2020 19:13:12] \"#033[37mPOST /invocations HTTP/1.1#033[0m\" 200 -\u001b[0m\n",
      "\u001b[35m * Serving Flask app \"point-of-compromise-fraud-detection\" (lazy loading)\n",
      " * Environment: PRODUCTION\n",
      " * Debug mode: off\n",
      " * Running on http://0.0.0.0:8080/ (Press CTRL+C to quit)\u001b[0m\n",
      "\u001b[35m169.254.255.130 - - [16/Oct/2020 19:13:12] \"#033[37mGET /ping HTTP/1.1#033[0m\" 200 -\u001b[0m\n",
      "\u001b[35m169.254.255.130 - - [16/Oct/2020 19:13:12] \"#033[33mGET /execution-parameters HTTP/1.1#033[0m\" 404 -\u001b[0m\n",
      "\u001b[35m169.254.255.130 - - [16/Oct/2020 19:13:12] \"#033[37mPOST /invocations HTTP/1.1#033[0m\" 200 -\u001b[0m\n"
     ]
    }
   ],
   "source": [
    "transformer.transform(\n",
    "    S3_INPUT_PATH\n",
    ")\n",
    "\n",
    "# wait until prediction job is completed\n",
    "transformer.wait()\n"
   ]
  },
  {
   "cell_type": "markdown",
   "metadata": {},
   "source": [
    "#### Inspect the Batch Transform Output in S3"
   ]
  },
  {
   "cell_type": "code",
   "execution_count": 20,
   "metadata": {},
   "outputs": [
    {
     "data": {
      "text/plain": [
       "'[{\"mid_zip5\":\"526046724433_60601\",\"score\":0.68380951},{\"mid_zip5\":\"527583689359_92101\",\"score\":0.9800017},{\"mid_zip5\":\"552121103103_63101\",\"score\":0.72471319},{\"mid_zip5\":\"139243061176_94203\",\"score\":0.78034101},{\"mid_zip5\":\"550279697705_92101\",\"score\":0.52234835},{\"mid_zip5\":\"917452601856_30301\",\"score\":0.27969479},{\"mid_zip5\":\"922278518399_95101\",\"score\":0.516166},{\"mid_zip5\":\"781868299537_30301\",\"score\":0.18081539},{\"mid_zip5\":\"593471958486_68046\",\"score\":0.44803247},{\"mid_zip5\":\"582418463690_60601\",\"score\":0.93796972}]'"
      ]
     },
     "execution_count": 20,
     "metadata": {},
     "output_type": "execute_result"
    }
   ],
   "source": [
    "s3_client = sage.s3.S3Downloader\n",
    "s3_client.read_file(S3_OUTPUT_FILE)"
   ]
  },
  {
   "cell_type": "code",
   "execution_count": null,
   "metadata": {},
   "outputs": [],
   "source": []
  }
 ],
 "metadata": {
  "kernelspec": {
   "display_name": "sagemaker",
   "language": "python",
   "name": "sagemaker"
  },
  "language_info": {
   "codemirror_mode": {
    "name": "ipython",
    "version": 3
   },
   "file_extension": ".py",
   "mimetype": "text/x-python",
   "name": "python",
   "nbconvert_exporter": "python",
   "pygments_lexer": "ipython3",
   "version": "3.7.3"
  }
 },
 "nbformat": 4,
 "nbformat_minor": 2
}
